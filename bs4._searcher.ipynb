{
 "cells": [
  {
   "cell_type": "code",
   "execution_count": 2,
   "metadata": {},
   "outputs": [
    {
     "name": "stdout",
     "output_type": "stream",
     "text": [
      "<Response [403]>\n"
     ]
    }
   ],
   "source": [
    "#!/usr/bin/python3\n",
    "import requests\n",
    "from bs4 import BeautifulSoup\n",
    "from pprint import pprint\n",
    "\n",
    "url = 'http://localhost:10240/job/ctest-sample/'\n",
    "session = requests.Session()\n",
    "session.auth = (\"stfcdonaldchung\", \"Uq3cjT:5f_C2jgD\")\n",
    "auth = session.post(\"http://localhost:10240/\")\n",
    "data = requests.get(url)\n",
    "\n",
    "\n",
    "my_data = []\n",
    "print(data)\n",
    "html = BeautifulSoup(data.text, 'html.parser')\n",
    "articles = html.select('a.model-link.inside.build-link.display-name')\n",
    "\n"
   ]
  },
  {
   "cell_type": "markdown",
   "metadata": {},
   "source": []
  }
 ],
 "metadata": {
  "kernelspec": {
   "display_name": "Python 3.10.6 ('mmd')",
   "language": "python",
   "name": "python3"
  },
  "language_info": {
   "codemirror_mode": {
    "name": "ipython",
    "version": 3
   },
   "file_extension": ".py",
   "mimetype": "text/x-python",
   "name": "python",
   "nbconvert_exporter": "python",
   "pygments_lexer": "ipython3",
   "version": "3.10.6"
  },
  "orig_nbformat": 4,
  "vscode": {
   "interpreter": {
    "hash": "ff8e3075a3d2c9ccea0c129809dc0fddc664a9fea2a2c7ea6461ee3bf806b9fc"
   }
  }
 },
 "nbformat": 4,
 "nbformat_minor": 2
}
