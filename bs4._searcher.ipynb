{
 "cells": [
  {
   "cell_type": "code",
   "execution_count": 2,
   "metadata": {},
   "outputs": [],
   "source": [
    "#!/usr/bin/python3\n",
    "from typing import OrderedDict\n",
    "import requests\n",
    "from bs4 import BeautifulSoup\n",
    "from pprint import pprint\n",
    "import json\n",
    "\n",
    "url = 'http://localhost:10240/job/ctest-sample/'\n",
    "auth = (\"stfcdonaldchung\", \"Uq3cjT:5f_C2jgD\")\n",
    "job_api = url + \"api/json\"\n",
    "data = requests.get(job_api, auth=auth)\n",
    "\n",
    "data.json()['builds']\n",
    "# my_data = []\n",
    "build = OrderedDict()\n",
    "#print(list(e['url'] for e in data.json()['builds']))\n",
    "data2 = requests.get(\"http://localhost:10240/job/ctest-sample/9/api/json\", auth=auth)\n",
    "#print(data2.json()['artifacts'])\n",
    "\n",
    "data3 = requests.get(data.json()['builds'][0]['url'] + 'artifact/' + data2.json()['artifacts'][0]['relativePath'], auth=auth)\n",
    "#print(list(e for e in data3.text.split('\\n')))\n"
   ]
  },
  {
   "cell_type": "code",
   "execution_count": 1,
   "metadata": {},
   "outputs": [],
   "source": [
    "from pysondb import getDb\n",
    "\n",
    "todo_db = getDb('sandbox/build_collection_pretty.json')\n"
   ]
  },
  {
   "cell_type": "markdown",
   "metadata": {},
   "source": []
  }
 ],
 "metadata": {
  "kernelspec": {
   "display_name": "Python 3.10.6 ('mmd')",
   "language": "python",
   "name": "python3"
  },
  "language_info": {
   "codemirror_mode": {
    "name": "ipython",
    "version": 3
   },
   "file_extension": ".py",
   "mimetype": "text/x-python",
   "name": "python",
   "nbconvert_exporter": "python",
   "pygments_lexer": "ipython3",
   "version": "3.10.6"
  },
  "orig_nbformat": 4,
  "vscode": {
   "interpreter": {
    "hash": "ff8e3075a3d2c9ccea0c129809dc0fddc664a9fea2a2c7ea6461ee3bf806b9fc"
   }
  }
 },
 "nbformat": 4,
 "nbformat_minor": 2
}
