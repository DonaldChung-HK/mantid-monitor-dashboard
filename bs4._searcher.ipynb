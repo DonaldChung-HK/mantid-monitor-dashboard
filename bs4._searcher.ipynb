{
 "cells": [
  {
   "cell_type": "code",
   "execution_count": 5,
   "metadata": {},
   "outputs": [
    {
     "name": "stdout",
     "output_type": "stream",
     "text": [
      "[{'displayPath': 'linux-64-ci.log', 'fileName': 'linux-64-ci.log', 'relativePath': 'build/log/linux-64-ci.log'}, {'displayPath': 'osx-64-ci.log', 'fileName': 'osx-64-ci.log', 'relativePath': 'build/log/osx-64-ci.log'}, {'displayPath': 'windows-64-ci.log', 'fileName': 'windows-64-ci.log', 'relativePath': 'build/log/windows-64-ci.log'}]\n"
     ]
    }
   ],
   "source": [
    "#!/usr/bin/python3\n",
    "from typing import OrderedDict\n",
    "import requests\n",
    "from bs4 import BeautifulSoup\n",
    "from pprint import pprint\n",
    "import json\n",
    "\n",
    "url = 'http://localhost:10240/job/ctest-sample/'\n",
    "auth = (\"stfcdonaldchung\", \"Uq3cjT:5f_C2jgD\")\n",
    "job_api = url + \"api/json\"\n",
    "data = requests.get(job_api, auth=auth)\n",
    "\n",
    "#print(data.json()['builds'])\n",
    "# my_data = []\n",
    "build = OrderedDict()\n",
    "#print(list(e['url'] for e in data.json()['builds']))\n",
    "data2 = requests.get(\"http://localhost:10240/job/ctest-sample/9/api/json\", auth=auth)\n",
    "print(data2.json()['artifacts'])\n",
    "\n",
    "data3 = requests.get(data.json()['builds'][0]['url'] + 'artifact/' + data2.json()['artifacts'][0]['relativePath'], auth=auth)\n",
    "#print(list(e for e in data3.text.split('\\n')))\n"
   ]
  },
  {
   "cell_type": "code",
   "execution_count": 6,
   "metadata": {},
   "outputs": [
    {
     "name": "stdout",
     "output_type": "stream",
     "text": [
      "[{'_class': 'org.jenkinsci.plugins.workflow.job.WorkflowRun', 'number': 74, 'url': 'https://builds.mantidproject.org/job/build_packages_from_branch/74/'}, {'_class': 'org.jenkinsci.plugins.workflow.job.WorkflowRun', 'number': 73, 'url': 'https://builds.mantidproject.org/job/build_packages_from_branch/73/'}, {'_class': 'org.jenkinsci.plugins.workflow.job.WorkflowRun', 'number': 72, 'url': 'https://builds.mantidproject.org/job/build_packages_from_branch/72/'}, {'_class': 'org.jenkinsci.plugins.workflow.job.WorkflowRun', 'number': 71, 'url': 'https://builds.mantidproject.org/job/build_packages_from_branch/71/'}, {'_class': 'org.jenkinsci.plugins.workflow.job.WorkflowRun', 'number': 70, 'url': 'https://builds.mantidproject.org/job/build_packages_from_branch/70/'}, {'_class': 'org.jenkinsci.plugins.workflow.job.WorkflowRun', 'number': 69, 'url': 'https://builds.mantidproject.org/job/build_packages_from_branch/69/'}, {'_class': 'org.jenkinsci.plugins.workflow.job.WorkflowRun', 'number': 68, 'url': 'https://builds.mantidproject.org/job/build_packages_from_branch/68/'}, {'_class': 'org.jenkinsci.plugins.workflow.job.WorkflowRun', 'number': 67, 'url': 'https://builds.mantidproject.org/job/build_packages_from_branch/67/'}, {'_class': 'org.jenkinsci.plugins.workflow.job.WorkflowRun', 'number': 66, 'url': 'https://builds.mantidproject.org/job/build_packages_from_branch/66/'}, {'_class': 'org.jenkinsci.plugins.workflow.job.WorkflowRun', 'number': 65, 'url': 'https://builds.mantidproject.org/job/build_packages_from_branch/65/'}, {'_class': 'org.jenkinsci.plugins.workflow.job.WorkflowRun', 'number': 64, 'url': 'https://builds.mantidproject.org/job/build_packages_from_branch/64/'}, {'_class': 'org.jenkinsci.plugins.workflow.job.WorkflowRun', 'number': 63, 'url': 'https://builds.mantidproject.org/job/build_packages_from_branch/63/'}, {'_class': 'org.jenkinsci.plugins.workflow.job.WorkflowRun', 'number': 62, 'url': 'https://builds.mantidproject.org/job/build_packages_from_branch/62/'}, {'_class': 'org.jenkinsci.plugins.workflow.job.WorkflowRun', 'number': 61, 'url': 'https://builds.mantidproject.org/job/build_packages_from_branch/61/'}, {'_class': 'org.jenkinsci.plugins.workflow.job.WorkflowRun', 'number': 60, 'url': 'https://builds.mantidproject.org/job/build_packages_from_branch/60/'}, {'_class': 'org.jenkinsci.plugins.workflow.job.WorkflowRun', 'number': 59, 'url': 'https://builds.mantidproject.org/job/build_packages_from_branch/59/'}, {'_class': 'org.jenkinsci.plugins.workflow.job.WorkflowRun', 'number': 58, 'url': 'https://builds.mantidproject.org/job/build_packages_from_branch/58/'}, {'_class': 'org.jenkinsci.plugins.workflow.job.WorkflowRun', 'number': 57, 'url': 'https://builds.mantidproject.org/job/build_packages_from_branch/57/'}, {'_class': 'org.jenkinsci.plugins.workflow.job.WorkflowRun', 'number': 56, 'url': 'https://builds.mantidproject.org/job/build_packages_from_branch/56/'}, {'_class': 'org.jenkinsci.plugins.workflow.job.WorkflowRun', 'number': 55, 'url': 'https://builds.mantidproject.org/job/build_packages_from_branch/55/'}, {'_class': 'org.jenkinsci.plugins.workflow.job.WorkflowRun', 'number': 54, 'url': 'https://builds.mantidproject.org/job/build_packages_from_branch/54/'}, {'_class': 'org.jenkinsci.plugins.workflow.job.WorkflowRun', 'number': 53, 'url': 'https://builds.mantidproject.org/job/build_packages_from_branch/53/'}, {'_class': 'org.jenkinsci.plugins.workflow.job.WorkflowRun', 'number': 52, 'url': 'https://builds.mantidproject.org/job/build_packages_from_branch/52/'}, {'_class': 'org.jenkinsci.plugins.workflow.job.WorkflowRun', 'number': 51, 'url': 'https://builds.mantidproject.org/job/build_packages_from_branch/51/'}, {'_class': 'org.jenkinsci.plugins.workflow.job.WorkflowRun', 'number': 50, 'url': 'https://builds.mantidproject.org/job/build_packages_from_branch/50/'}, {'_class': 'org.jenkinsci.plugins.workflow.job.WorkflowRun', 'number': 49, 'url': 'https://builds.mantidproject.org/job/build_packages_from_branch/49/'}, {'_class': 'org.jenkinsci.plugins.workflow.job.WorkflowRun', 'number': 48, 'url': 'https://builds.mantidproject.org/job/build_packages_from_branch/48/'}, {'_class': 'org.jenkinsci.plugins.workflow.job.WorkflowRun', 'number': 47, 'url': 'https://builds.mantidproject.org/job/build_packages_from_branch/47/'}, {'_class': 'org.jenkinsci.plugins.workflow.job.WorkflowRun', 'number': 46, 'url': 'https://builds.mantidproject.org/job/build_packages_from_branch/46/'}, {'_class': 'org.jenkinsci.plugins.workflow.job.WorkflowRun', 'number': 45, 'url': 'https://builds.mantidproject.org/job/build_packages_from_branch/45/'}]\n"
     ]
    },
    {
     "ename": "JSONDecodeError",
     "evalue": "Expecting value: line 1 column 1 (char 0)",
     "output_type": "error",
     "traceback": [
      "\u001b[0;31m---------------------------------------------------------------------------\u001b[0m",
      "\u001b[0;31mJSONDecodeError\u001b[0m                           Traceback (most recent call last)",
      "File \u001b[0;32m~/mambaforge/envs/mmd/lib/python3.10/site-packages/requests/models.py:971\u001b[0m, in \u001b[0;36mResponse.json\u001b[0;34m(self, **kwargs)\u001b[0m\n\u001b[1;32m    970\u001b[0m \u001b[39mtry\u001b[39;00m:\n\u001b[0;32m--> 971\u001b[0m     \u001b[39mreturn\u001b[39;00m complexjson\u001b[39m.\u001b[39;49mloads(\u001b[39mself\u001b[39;49m\u001b[39m.\u001b[39;49mtext, \u001b[39m*\u001b[39;49m\u001b[39m*\u001b[39;49mkwargs)\n\u001b[1;32m    972\u001b[0m \u001b[39mexcept\u001b[39;00m JSONDecodeError \u001b[39mas\u001b[39;00m e:\n\u001b[1;32m    973\u001b[0m     \u001b[39m# Catch JSON-related errors and raise as requests.JSONDecodeError\u001b[39;00m\n\u001b[1;32m    974\u001b[0m     \u001b[39m# This aliases json.JSONDecodeError and simplejson.JSONDecodeError\u001b[39;00m\n",
      "File \u001b[0;32m~/mambaforge/envs/mmd/lib/python3.10/json/__init__.py:346\u001b[0m, in \u001b[0;36mloads\u001b[0;34m(s, cls, object_hook, parse_float, parse_int, parse_constant, object_pairs_hook, **kw)\u001b[0m\n\u001b[1;32m    343\u001b[0m \u001b[39mif\u001b[39;00m (\u001b[39mcls\u001b[39m \u001b[39mis\u001b[39;00m \u001b[39mNone\u001b[39;00m \u001b[39mand\u001b[39;00m object_hook \u001b[39mis\u001b[39;00m \u001b[39mNone\u001b[39;00m \u001b[39mand\u001b[39;00m\n\u001b[1;32m    344\u001b[0m         parse_int \u001b[39mis\u001b[39;00m \u001b[39mNone\u001b[39;00m \u001b[39mand\u001b[39;00m parse_float \u001b[39mis\u001b[39;00m \u001b[39mNone\u001b[39;00m \u001b[39mand\u001b[39;00m\n\u001b[1;32m    345\u001b[0m         parse_constant \u001b[39mis\u001b[39;00m \u001b[39mNone\u001b[39;00m \u001b[39mand\u001b[39;00m object_pairs_hook \u001b[39mis\u001b[39;00m \u001b[39mNone\u001b[39;00m \u001b[39mand\u001b[39;00m \u001b[39mnot\u001b[39;00m kw):\n\u001b[0;32m--> 346\u001b[0m     \u001b[39mreturn\u001b[39;00m _default_decoder\u001b[39m.\u001b[39;49mdecode(s)\n\u001b[1;32m    347\u001b[0m \u001b[39mif\u001b[39;00m \u001b[39mcls\u001b[39m \u001b[39mis\u001b[39;00m \u001b[39mNone\u001b[39;00m:\n",
      "File \u001b[0;32m~/mambaforge/envs/mmd/lib/python3.10/json/decoder.py:337\u001b[0m, in \u001b[0;36mJSONDecoder.decode\u001b[0;34m(self, s, _w)\u001b[0m\n\u001b[1;32m    333\u001b[0m \u001b[39m\"\"\"Return the Python representation of ``s`` (a ``str`` instance\u001b[39;00m\n\u001b[1;32m    334\u001b[0m \u001b[39mcontaining a JSON document).\u001b[39;00m\n\u001b[1;32m    335\u001b[0m \n\u001b[1;32m    336\u001b[0m \u001b[39m\"\"\"\u001b[39;00m\n\u001b[0;32m--> 337\u001b[0m obj, end \u001b[39m=\u001b[39m \u001b[39mself\u001b[39;49m\u001b[39m.\u001b[39;49mraw_decode(s, idx\u001b[39m=\u001b[39;49m_w(s, \u001b[39m0\u001b[39;49m)\u001b[39m.\u001b[39;49mend())\n\u001b[1;32m    338\u001b[0m end \u001b[39m=\u001b[39m _w(s, end)\u001b[39m.\u001b[39mend()\n",
      "File \u001b[0;32m~/mambaforge/envs/mmd/lib/python3.10/json/decoder.py:355\u001b[0m, in \u001b[0;36mJSONDecoder.raw_decode\u001b[0;34m(self, s, idx)\u001b[0m\n\u001b[1;32m    354\u001b[0m \u001b[39mexcept\u001b[39;00m \u001b[39mStopIteration\u001b[39;00m \u001b[39mas\u001b[39;00m err:\n\u001b[0;32m--> 355\u001b[0m     \u001b[39mraise\u001b[39;00m JSONDecodeError(\u001b[39m\"\u001b[39m\u001b[39mExpecting value\u001b[39m\u001b[39m\"\u001b[39m, s, err\u001b[39m.\u001b[39mvalue) \u001b[39mfrom\u001b[39;00m \u001b[39mNone\u001b[39m\n\u001b[1;32m    356\u001b[0m \u001b[39mreturn\u001b[39;00m obj, end\n",
      "\u001b[0;31mJSONDecodeError\u001b[0m: Expecting value: line 1 column 1 (char 0)",
      "\nDuring handling of the above exception, another exception occurred:\n",
      "\u001b[0;31mJSONDecodeError\u001b[0m                           Traceback (most recent call last)",
      "Cell \u001b[0;32mIn [6], line 19\u001b[0m\n\u001b[1;32m     16\u001b[0m data2 \u001b[38;5;241m=\u001b[39m requests\u001b[38;5;241m.\u001b[39mget(\u001b[38;5;124m\"\u001b[39m\u001b[38;5;124mhttp://localhost:10240/job/ctest-sample/9/api/json\u001b[39m\u001b[38;5;124m\"\u001b[39m, auth\u001b[38;5;241m=\u001b[39mauth)\n\u001b[1;32m     17\u001b[0m \u001b[38;5;66;03m#print(data2.json()['artifacts'])\u001b[39;00m\n\u001b[0;32m---> 19\u001b[0m data3 \u001b[38;5;241m=\u001b[39m requests\u001b[38;5;241m.\u001b[39mget(data\u001b[38;5;241m.\u001b[39mjson()[\u001b[38;5;124m'\u001b[39m\u001b[38;5;124mbuilds\u001b[39m\u001b[38;5;124m'\u001b[39m][\u001b[38;5;241m0\u001b[39m][\u001b[38;5;124m'\u001b[39m\u001b[38;5;124murl\u001b[39m\u001b[38;5;124m'\u001b[39m] \u001b[38;5;241m+\u001b[39m \u001b[38;5;124m'\u001b[39m\u001b[38;5;124martifact/\u001b[39m\u001b[38;5;124m'\u001b[39m \u001b[38;5;241m+\u001b[39m \u001b[43mdata2\u001b[49m\u001b[38;5;241;43m.\u001b[39;49m\u001b[43mjson\u001b[49m\u001b[43m(\u001b[49m\u001b[43m)\u001b[49m[\u001b[38;5;124m'\u001b[39m\u001b[38;5;124martifacts\u001b[39m\u001b[38;5;124m'\u001b[39m][\u001b[38;5;241m0\u001b[39m][\u001b[38;5;124m'\u001b[39m\u001b[38;5;124mrelativePath\u001b[39m\u001b[38;5;124m'\u001b[39m], auth\u001b[38;5;241m=\u001b[39mauth)\n",
      "File \u001b[0;32m~/mambaforge/envs/mmd/lib/python3.10/site-packages/requests/models.py:975\u001b[0m, in \u001b[0;36mResponse.json\u001b[0;34m(self, **kwargs)\u001b[0m\n\u001b[1;32m    971\u001b[0m     \u001b[39mreturn\u001b[39;00m complexjson\u001b[39m.\u001b[39mloads(\u001b[39mself\u001b[39m\u001b[39m.\u001b[39mtext, \u001b[39m*\u001b[39m\u001b[39m*\u001b[39mkwargs)\n\u001b[1;32m    972\u001b[0m \u001b[39mexcept\u001b[39;00m JSONDecodeError \u001b[39mas\u001b[39;00m e:\n\u001b[1;32m    973\u001b[0m     \u001b[39m# Catch JSON-related errors and raise as requests.JSONDecodeError\u001b[39;00m\n\u001b[1;32m    974\u001b[0m     \u001b[39m# This aliases json.JSONDecodeError and simplejson.JSONDecodeError\u001b[39;00m\n\u001b[0;32m--> 975\u001b[0m     \u001b[39mraise\u001b[39;00m RequestsJSONDecodeError(e\u001b[39m.\u001b[39mmsg, e\u001b[39m.\u001b[39mdoc, e\u001b[39m.\u001b[39mpos)\n",
      "\u001b[0;31mJSONDecodeError\u001b[0m: Expecting value: line 1 column 1 (char 0)"
     ]
    }
   ],
   "source": [
    "#!/usr/bin/python3\n",
    "from typing import OrderedDict\n",
    "import requests\n",
    "from bs4 import BeautifulSoup\n",
    "from pprint import pprint\n",
    "import json\n",
    "\n",
    "url = 'https://builds.mantidproject.org/job/build_packages_from_branch/'\n",
    "auth = None\n",
    "job_api = url + \"api/json\"\n",
    "data = requests.get(job_api, auth=auth)\n",
    "\n",
    "print(data.json()['builds'])\n",
    "# my_data = []\n",
    "#print(list(e['url'] for e in data.json()['builds']))\n",
    "#data2 = requests.get(\"http://localhost:10240/job/ctest-sample/9/api/json\", auth=auth)\n",
    "#print(data2.json()['artifacts'])\n",
    "\n",
    "#data3 = requests.get(data.json()['builds'][0]['url'] + 'artifact/' + data2.json()['artifacts'][0]['relativePath'], auth=auth)\n",
    "#print(list(e for e in data3.text.split('\\n')))\n",
    "\n"
   ]
  },
  {
   "cell_type": "markdown",
   "metadata": {},
   "source": []
  }
 ],
 "metadata": {
  "kernelspec": {
   "display_name": "Python 3.10.6 ('mmd')",
   "language": "python",
   "name": "python3"
  },
  "language_info": {
   "codemirror_mode": {
    "name": "ipython",
    "version": 3
   },
   "file_extension": ".py",
   "mimetype": "text/x-python",
   "name": "python",
   "nbconvert_exporter": "python",
   "pygments_lexer": "ipython3",
   "version": "3.10.6"
  },
  "orig_nbformat": 4,
  "vscode": {
   "interpreter": {
    "hash": "ff8e3075a3d2c9ccea0c129809dc0fddc664a9fea2a2c7ea6461ee3bf806b9fc"
   }
  }
 },
 "nbformat": 4,
 "nbformat_minor": 2
}
