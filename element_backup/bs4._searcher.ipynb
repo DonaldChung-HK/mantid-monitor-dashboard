{
 "cells": [
  {
   "cell_type": "code",
   "execution_count": 5,
   "metadata": {},
   "outputs": [
    {
     "name": "stdout",
     "output_type": "stream",
     "text": [
      "[{'displayPath': 'linux-64-ci.log', 'fileName': 'linux-64-ci.log', 'relativePath': 'build/log/linux-64-ci.log'}, {'displayPath': 'osx-64-ci.log', 'fileName': 'osx-64-ci.log', 'relativePath': 'build/log/osx-64-ci.log'}, {'displayPath': 'windows-64-ci.log', 'fileName': 'windows-64-ci.log', 'relativePath': 'build/log/windows-64-ci.log'}]\n"
     ]
    }
   ],
   "source": [
    "#!/usr/bin/python3\n",
    "from typing import OrderedDict\n",
    "import requests\n",
    "from bs4 import BeautifulSoup\n",
    "from pprint import pprint\n",
    "import json\n",
    "\n",
    "url = 'http://localhost:10240/job/ctest-sample/'\n",
    "auth = (\"stfcdonaldchung\", \"Uq3cjT:5f_C2jgD\")\n",
    "job_api = url + \"api/json\"\n",
    "data = requests.get(job_api, auth=auth)\n",
    "\n",
    "#print(data.json()['builds'])\n",
    "# my_data = []\n",
    "build = OrderedDict()\n",
    "#print(list(e['url'] for e in data.json()['builds']))\n",
    "data2 = requests.get(\"http://localhost:10240/job/ctest-sample/9/api/json\", auth=auth)\n",
    "print(data2.json()['artifacts'])\n",
    "\n",
    "data3 = requests.get(data.json()['builds'][0]['url'] + 'artifact/' + data2.json()['artifacts'][0]['relativePath'], auth=auth)\n",
    "#print(list(e for e in data3.text.split('\\n')))\n"
   ]
  },
  {
   "cell_type": "code",
   "execution_count": 13,
   "metadata": {},
   "outputs": [
    {
     "name": "stdout",
     "output_type": "stream",
     "text": [
      "{'_class': 'org.jenkinsci.plugins.workflow.job.WorkflowRun', 'number': 74, 'url': 'https://builds.mantidproject.org/job/build_packages_from_branch/74/'}\n",
      "['https://builds.mantidproject.org/job/build_packages_from_branch/74/', 'https://builds.mantidproject.org/job/build_packages_from_branch/73/', 'https://builds.mantidproject.org/job/build_packages_from_branch/72/', 'https://builds.mantidproject.org/job/build_packages_from_branch/71/', 'https://builds.mantidproject.org/job/build_packages_from_branch/70/', 'https://builds.mantidproject.org/job/build_packages_from_branch/69/', 'https://builds.mantidproject.org/job/build_packages_from_branch/68/', 'https://builds.mantidproject.org/job/build_packages_from_branch/67/', 'https://builds.mantidproject.org/job/build_packages_from_branch/66/', 'https://builds.mantidproject.org/job/build_packages_from_branch/65/', 'https://builds.mantidproject.org/job/build_packages_from_branch/64/', 'https://builds.mantidproject.org/job/build_packages_from_branch/63/', 'https://builds.mantidproject.org/job/build_packages_from_branch/62/', 'https://builds.mantidproject.org/job/build_packages_from_branch/61/', 'https://builds.mantidproject.org/job/build_packages_from_branch/60/', 'https://builds.mantidproject.org/job/build_packages_from_branch/59/', 'https://builds.mantidproject.org/job/build_packages_from_branch/58/', 'https://builds.mantidproject.org/job/build_packages_from_branch/57/', 'https://builds.mantidproject.org/job/build_packages_from_branch/56/', 'https://builds.mantidproject.org/job/build_packages_from_branch/55/', 'https://builds.mantidproject.org/job/build_packages_from_branch/54/', 'https://builds.mantidproject.org/job/build_packages_from_branch/53/', 'https://builds.mantidproject.org/job/build_packages_from_branch/52/', 'https://builds.mantidproject.org/job/build_packages_from_branch/51/', 'https://builds.mantidproject.org/job/build_packages_from_branch/50/', 'https://builds.mantidproject.org/job/build_packages_from_branch/49/', 'https://builds.mantidproject.org/job/build_packages_from_branch/48/', 'https://builds.mantidproject.org/job/build_packages_from_branch/47/', 'https://builds.mantidproject.org/job/build_packages_from_branch/46/', 'https://builds.mantidproject.org/job/build_packages_from_branch/45/']\n",
      "[{'displayPath': 'darwin17.log', 'fileName': 'darwin17.log', 'relativePath': 'build/ctest_log/darwin17.log'}, {'displayPath': 'linux-gnu.log', 'fileName': 'linux-gnu.log', 'relativePath': 'build/ctest_log/linux-gnu.log'}, {'displayPath': 'msys.log', 'fileName': 'msys.log', 'relativePath': 'build/ctest_log/msys.log'}, {'displayPath': 'mantid-6.4.20220928.1938-py38h2038e8a_0.tar.bz2', 'fileName': 'mantid-6.4.20220928.1938-py38h2038e8a_0.tar.bz2', 'relativePath': 'conda-bld/osx-64/mantid-6.4.20220928.1938-py38h2038e8a_0.tar.bz2'}, {'displayPath': 'mantidqt-6.4.20220928.1938-py38hab343a2_0.tar.bz2', 'fileName': 'mantidqt-6.4.20220928.1938-py38hab343a2_0.tar.bz2', 'relativePath': 'conda-bld/osx-64/mantidqt-6.4.20220928.1938-py38hab343a2_0.tar.bz2'}, {'displayPath': 'mantid-6.4.20220928.1938-py38hc6fe4f8_0.tar.bz2', 'fileName': 'mantid-6.4.20220928.1938-py38hc6fe4f8_0.tar.bz2', 'relativePath': 'conda-bld/win-64/mantid-6.4.20220928.1938-py38hc6fe4f8_0.tar.bz2'}, {'displayPath': 'mantidqt-6.4.20220928.1938-py38hb63ecb1_0.tar.bz2', 'fileName': 'mantidqt-6.4.20220928.1938-py38hb63ecb1_0.tar.bz2', 'relativePath': 'conda-bld/win-64/mantidqt-6.4.20220928.1938-py38hb63ecb1_0.tar.bz2'}]\n"
     ]
    }
   ],
   "source": [
    "#!/usr/bin/python3\n",
    "from typing import OrderedDict\n",
    "import requests\n",
    "from bs4 import BeautifulSoup\n",
    "from pprint import pprint\n",
    "import json\n",
    "\n",
    "url = 'https://builds.mantidproject.org/job/build_packages_from_branch/'\n",
    "auth = None\n",
    "job_api = url + \"api/json\"\n",
    "data = requests.get(job_api, auth=auth)\n",
    "\n",
    "print(data.json()['lastBuild'])\n",
    "# my_data = []\n",
    "print(list(e['url'] for e in data.json()['builds']))\n",
    "data2 = requests.get(\"https://builds.mantidproject.org/job/build_packages_from_branch/71/api/json\", auth=auth)\n",
    "print(data2.json()['artifacts'])\n",
    "\n",
    "#data3 = requests.get(data.json()['builds'][0]['url'] + 'artifact/' + data2.json()['artifacts'][0]['relativePath'], auth=auth)\n",
    "#print(list(e for e in data3.text.split('\\n')))\n",
    "\n"
   ]
  },
  {
   "cell_type": "markdown",
   "metadata": {},
   "source": []
  }
 ],
 "metadata": {
  "kernelspec": {
   "display_name": "Python 3.10.6 ('mmd')",
   "language": "python",
   "name": "python3"
  },
  "language_info": {
   "codemirror_mode": {
    "name": "ipython",
    "version": 3
   },
   "file_extension": ".py",
   "mimetype": "text/x-python",
   "name": "python",
   "nbconvert_exporter": "python",
   "pygments_lexer": "ipython3",
   "version": "3.10.6"
  },
  "orig_nbformat": 4,
  "vscode": {
   "interpreter": {
    "hash": "ff8e3075a3d2c9ccea0c129809dc0fddc664a9fea2a2c7ea6461ee3bf806b9fc"
   }
  }
 },
 "nbformat": 4,
 "nbformat_minor": 2
}
